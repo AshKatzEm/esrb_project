{
 "cells": [
  {
   "cell_type": "code",
   "execution_count": 1,
   "id": "f9184dbb-8d45-437d-9b97-66935c93fee1",
   "metadata": {},
   "outputs": [],
   "source": [
    "# need to remove all the \"\"\" strings\n",
    "\n",
    "# Do not use upyter Notebook\n",
    "\n",
    "# takes too long\n",
    "\n",
    "# load relevant libraries\n",
    "import numpy as np\n",
    "import pandas as pd\n",
    "\n",
    "import streamlit as st\n",
    "\n",
    "import plotly.express as px\n",
    "\n",
    "import matplotlib.pyplot as plt\n",
    "import seaborn as sns  \n",
    "\n",
    "sns.set()\n",
    "\n",
    "# Import the trees from sklearn\n",
    "from sklearn import tree\n",
    "\n",
    "# Helper function to split our data\n",
    "from sklearn.model_selection import train_test_split\n",
    "\n",
    "# Helper fuctions to evaluate our model.\n",
    "from sklearn.metrics import accuracy_score, precision_score, recall_score, confusion_matrix, f1_score, roc_auc_score\n",
    "from sklearn.metrics import classification_report, confusion_matrix\n",
    "from sklearn import metrics\n",
    "\n",
    "# Helper function for hyper-parameter turning.\n",
    "from sklearn.model_selection import GridSearchCV\n",
    "\n",
    "# Import our Decision Tree\n",
    "from sklearn.tree import DecisionTreeClassifier\n",
    "\n",
    "# Import our Random Forest\n",
    "from sklearn.ensemble import RandomForestClassifier\n",
    "\n",
    "# Library for visualizing our tree\n",
    "# If you get an error, run 'conda install python-graphviz' in your terminal (without the quotes).\n",
    "#import graphviz\n",
    "import json\n",
    "import datetime"
   ]
  },
  {
   "cell_type": "code",
   "execution_count": 3,
   "id": "9eadb8d6-e7db-4089-8532-adc918bbde7b",
   "metadata": {},
   "outputs": [],
   "source": [
    "\n",
    "cleaned_data = \"https://raw.githubusercontent.com/HA-work/esrb_project/main/data/cleaned_games.csv\"\n",
    "\n",
    "\n",
    "df = pd.read_csv(cleaned_data)\n",
    "\n",
    "selected_features = list(df.columns)\n",
    "\n",
    "\n",
    "\n",
    "selected_features.remove(\"title\")\n",
    "selected_features.remove(\"esrb_encoded\")\n",
    "selected_features.remove(\"esrb_rating\")\n",
    "\n",
    "\n",
    "\n",
    "descriptor_list = selected_features.copy()\n",
    "\n",
    "\n",
    "\n",
    "descriptor_list.remove(\"num_descriptors\")\n"
   ]
  },
  {
   "cell_type": "code",
   "execution_count": 5,
   "id": "36a96388-2aa0-4864-933b-f6c902fe15f3",
   "metadata": {},
   "outputs": [
    {
     "data": {
      "text/plain": [
       "31"
      ]
     },
     "execution_count": 5,
     "metadata": {},
     "output_type": "execute_result"
    }
   ],
   "source": [
    "len(descriptor_list)\n"
   ]
  },
  {
   "cell_type": "code",
   "execution_count": 134,
   "id": "349af0b7-0216-4afb-af33-4c52b621d02c",
   "metadata": {},
   "outputs": [],
   "source": [
    "old = list()\n",
    "#user_descriptors = ['mild_violence', 'violence', 'nudity', 'partial_nudity']\n",
    "user_descriptors = ['strong_janguage', 'partial_nudity','language','blood']\n",
    "while old != user_descriptors:\n",
    "    count = len(user_descriptors) \n",
    "    new_game_values = [] \n",
    "    for descriptor in descriptor_list: \n",
    "        if (descriptor in user_descriptors):\n",
    "            new_game_values.append(1) \n",
    "        else: \n",
    "            new_game_values.append(0) \n",
    "\n",
    "    #new_game_values.append(count) \n",
    "    new_game_df = pd.DataFrame([new_game_values], columns = descriptor_list )\n",
    "\n",
    "    old = user_descriptors\n",
    "    mask = pd.Series(data=0, index= range(len(df)))\n",
    "    for i in descriptor_list:\n",
    "        if int(new_game_df[i]):\n",
    "            for j in (df[i] == 1).index:\n",
    "                mask[j] += int((df[i] == 1)[j])\n",
    "    \n",
    "    for i in mask.index:\n",
    "        if mask[i] == len(user_descriptors):\n",
    "            mask[i] = True\n",
    "        else:\n",
    "            mask[i] = False\n",
    "            \n",
    "    fig = px.pie(df[mask],\n",
    "                 values=df['esrb_rating'][mask].value_counts(),\n",
    "                 names = df['esrb_rating'][mask].value_counts().index,\n",
    "                 title='ESRB ratings'\n",
    "                )\n",
    "    st.plotly_chart(fig, sharing=\"streamlit\") "
   ]
  },
  {
   "cell_type": "code",
   "execution_count": 133,
   "id": "ea031786-f659-4b1e-ba7c-f6faf28e0f61",
   "metadata": {},
   "outputs": [
    {
     "name": "stdout",
     "output_type": "stream",
     "text": [
      "0    1219\n",
      "1     488\n",
      "2     169\n",
      "3      16\n",
      "4       3\n",
      "dtype: int64\n",
      "False    1352\n",
      "True      543\n",
      "dtype: int64\n",
      "False    1439\n",
      "True      456\n",
      "dtype: int64\n",
      "False    1463\n",
      "True      432\n",
      "Name: blood, dtype: int64\n"
     ]
    }
   ],
   "source": [
    "print(mask.value_counts())\n",
    "test1 = (df['blood'] == 1)+ (df['nudity'] == 1) + (df['violence'] == 1)\n",
    "print(test1.value_counts())\n",
    "test2 = (df['blood'] == 1)+ (df['nudity'] == 1)\n",
    "print(test2.value_counts())\n",
    "test3 = (df['blood'] == 1)\n",
    "print(test3.value_counts())"
   ]
  },
  {
   "cell_type": "code",
   "execution_count": 136,
   "id": "cab1eacb-6ecc-4a61-b5ca-ed53121f9950",
   "metadata": {},
   "outputs": [
    {
     "data": {
      "text/plain": [
       "3"
      ]
     },
     "execution_count": 136,
     "metadata": {},
     "output_type": "execute_result"
    }
   ],
   "source": [
    "pd.set_option('display.max_columns', None)\n",
    "pd.set_option('display.max_rows', None)\n",
    "len(df[mask])"
   ]
  },
  {
   "cell_type": "code",
   "execution_count": 112,
   "id": "5513452b-b13c-4ddb-981f-1fe9a972fd18",
   "metadata": {},
   "outputs": [
    {
     "data": {
      "text/plain": [
       "False"
      ]
     },
     "execution_count": 112,
     "metadata": {},
     "output_type": "execute_result"
    }
   ],
   "source": [
    "(df['blood'] == 1)[30]"
   ]
  },
  {
   "cell_type": "code",
   "execution_count": null,
   "id": "afdcc31c-5764-4114-bba5-ef91e6e3e4bb",
   "metadata": {},
   "outputs": [],
   "source": [
    "# fig = px.pie(df, values=df['esrb_rating'].value_counts(), names = df['esrb_rating'].value_counts().index, title='ESRB ratings')\n",
    "\n",
    "# st.plotly_chart(fig, sharing=\"streamlit\")\n",
    "print()\n",
    "\n",
    "if (clicked):\n",
    "    st.write(\"The model predicted that your game will be\")\n"
   ]
  }
 ],
 "metadata": {
  "kernelspec": {
   "display_name": "Python 3 (ipykernel)",
   "language": "python",
   "name": "python3"
  },
  "language_info": {
   "codemirror_mode": {
    "name": "ipython",
    "version": 3
   },
   "file_extension": ".py",
   "mimetype": "text/x-python",
   "name": "python",
   "nbconvert_exporter": "python",
   "pygments_lexer": "ipython3",
   "version": "3.9.15"
  }
 },
 "nbformat": 4,
 "nbformat_minor": 5
}
