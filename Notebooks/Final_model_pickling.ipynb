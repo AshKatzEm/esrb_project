{
  "nbformat": 4,
  "nbformat_minor": 0,
  "metadata": {
    "colab": {
      "provenance": [],
      "authorship_tag": "ABX9TyMF/F7ksciUaQv22RORX34Y",
      "include_colab_link": true
    },
    "kernelspec": {
      "name": "python3",
      "display_name": "Python 3"
    },
    "language_info": {
      "name": "python"
    }
  },
  "cells": [
    {
      "cell_type": "markdown",
      "metadata": {
        "id": "view-in-github",
        "colab_type": "text"
      },
      "source": [
        "<a href=\"https://colab.research.google.com/github/AshKatzEm/esrb_ratings_analysis_project/blob/main/Final_model_pickling.ipynb\" target=\"_parent\"><img src=\"https://colab.research.google.com/assets/colab-badge.svg\" alt=\"Open In Colab\"/></a>"
      ]
    },
    {
      "cell_type": "code",
      "source": [
        "from google.colab import drive\n",
        "drive.mount('/content/drive')"
      ],
      "metadata": {
        "colab": {
          "base_uri": "https://localhost:8080/"
        },
        "id": "7O0WCQMe_xBh",
        "outputId": "ce5ac7a5-1baa-4259-8294-224d7017c326"
      },
      "execution_count": 1,
      "outputs": [
        {
          "output_type": "stream",
          "name": "stdout",
          "text": [
            "Mounted at /content/drive\n"
          ]
        }
      ]
    },
    {
      "cell_type": "code",
      "execution_count": 7,
      "metadata": {
        "id": "olbsy5qo_lgk"
      },
      "outputs": [],
      "source": [
        "# need to remove all the \"\"\" strings\n",
        "\n",
        "# Do not use upyter Notebook\n",
        "\n",
        "# takes too long\n",
        "\n",
        "# load relevant libraries\n",
        "import numpy as np\n",
        "import pandas as pd\n",
        "\n",
        "import plotly.express as px\n",
        "\n",
        "import matplotlib.pyplot as plt\n",
        "import seaborn as sns\n",
        "\n",
        "sns.set()\n",
        "\n",
        "import pickle\n",
        "\n",
        "# Import the trees from sklearn\n",
        "from sklearn import tree\n",
        "\n",
        "# Helper function to split our data\n",
        "from sklearn.model_selection import train_test_split\n",
        "\n",
        "# Helper fuctions to evaluate our model.\n",
        "from sklearn.metrics import accuracy_score, precision_score, recall_score, confusion_matrix, f1_score, roc_auc_score\n",
        "from sklearn.metrics import classification_report, confusion_matrix\n",
        "from sklearn import metrics\n",
        "\n",
        "# Helper function for hyper-parameter turning.\n",
        "from sklearn.model_selection import GridSearchCV\n",
        "\n",
        "# Import our Decision Tree\n",
        "from sklearn.tree import DecisionTreeClassifier\n",
        "\n",
        "\n",
        "# Import our Random Forest\n",
        "from sklearn.ensemble import RandomForestClassifier\n",
        "\n",
        "# Library for visualizing our tree\n",
        "# If you get an error, run 'conda install python-graphviz' in your terminal (without the quotes).\n",
        "import graphviz\n",
        "\n",
        "\n",
        "\n",
        "df = pd.read_csv(\"/content/drive/MyDrive/esrb_ratings_analysis_project/data/Cleaned_complete_dataset.csv\")\n",
        "\n",
        "# just making a placeholder\n",
        "\n",
        "list_descriptors = list(df.columns)\n",
        "list_descriptors.remove(\"title\")\n",
        "list_descriptors.remove(\"esrb_rating\")\n",
        "list_descriptors.remove(\"no_descriptors\")\n",
        "list_descriptors.remove(\"num_descriptors\")\n",
        "\n",
        "\n",
        "\n",
        "df[\"no_descriptors\"]= np.where((df[\"num_descriptors\"] == 0), 1, 0)\n",
        "\n",
        "\n",
        "encode = {'E' : 0,\n",
        "          'ET': 1,\n",
        "          'T' : 2,\n",
        "          'M' : 3}\n",
        "\n",
        "df[\"esrb_encoded\"] = df[\"esrb_rating\"].map(encode)\n",
        "\n",
        "selected_features = list(df.columns)\n",
        "df[\"ReleaseDate\"] = df['ReleaseDate'].str.replace(\"-\", \"\")\n",
        "df.dropna(inplace=True)\n",
        "df['ReleaseDate'] = df['ReleaseDate'].astype(int)\n",
        "\n",
        "\n",
        "selected_features.remove(\"title\")\n",
        "selected_features.remove(\"esrb_rating\")\n",
        "selected_features.remove(\"esrb_encoded\")\n",
        "\n",
        "selected_features.remove(\"no_descriptors\")\n",
        "# removing this as\n",
        "# num_descriptor is a better version of this\n",
        "# and makes user input easier\n",
        "\n",
        "\n",
        "\n",
        "X = df[selected_features]\n",
        "\n",
        "y = df[\"esrb_rating\"]\n",
        "\n",
        "X_train, X_test, y_train, y_test = train_test_split(X, y, test_size=0.2, random_state=45)\n",
        "\n",
        "\n",
        "final_model = RandomForestClassifier()\n",
        "\n",
        "X = df[selected_features]\n",
        "\n",
        "y = df[\"esrb_rating\"]\n",
        "\n",
        "\n",
        "\n",
        "\n",
        "final_model.fit(X, y)\n",
        "\n",
        "y_pred = final_model.predict(X_test)\n",
        "\n",
        "\n",
        "\n",
        "y_pred = final_model.predict(X)\n",
        "\n",
        "\n",
        "\n",
        "# Streamlit App\n",
        "\n",
        "# Need to use a python file and not an ipynb\n",
        "\n",
        "df.to_csv(\"/content/drive/MyDrive/esrb_ratings_analysis_project/data/final_model_data.csv\", header=True, index=False)\n",
        "\n",
        "# original data has header but not index\n",
        "# matching so dont need to worry about conflictions\n",
        "\n",
        "# needed to save it myself\n",
        "\n",
        "\n",
        "pickle.dump(final_model, open('/content/drive/MyDrive/esrb_ratings_analysis_project/models/final_model_releasedate.pkl', 'wb'))\n"
      ]
    }
  ]
}